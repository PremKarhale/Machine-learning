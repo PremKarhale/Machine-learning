{
 "cells": [
  {
   "cell_type": "markdown",
   "id": "c80893c1",
   "metadata": {},
   "source": [
    "1. Numerical Numerical\n",
    "☘️ Scatterplot \n",
    "☘️ Pair plot\n",
    "☘️ Line plot\n",
    "\n",
    "2. Numerical - Categorical \n",
    "☘️Boxplot \n",
    "☘️ Barplot \n",
    "☘️ Distplot\n",
    "\n",
    "\n",
    "3 Categorical Categorical \n",
    "☘️Heatplot\n",
    "☘️Clustermap"
   ]
  }
 ],
 "metadata": {
  "language_info": {
   "name": "python"
  }
 },
 "nbformat": 4,
 "nbformat_minor": 5
}
