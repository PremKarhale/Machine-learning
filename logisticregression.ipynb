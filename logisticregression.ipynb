{
 "cells": [
  {
   "cell_type": "code",
   "execution_count": 9,
   "id": "e12dd70f",
   "metadata": {},
   "outputs": [],
   "source": [
    "import pandas as pd \n",
    "import numpy as np\n",
    "import matplotlib.pyplot as plt\n",
    "from sklearn.linear_model import LogisticRegression\n"
   ]
  },
  {
   "cell_type": "code",
   "execution_count": null,
   "id": "55a647a1",
   "metadata": {},
   "outputs": [
    {
     "name": "stdout",
     "output_type": "stream",
     "text": [
      "Based on no 5.0 hours of study you are going to FAIL\n"
     ]
    }
   ],
   "source": [
    "X = [[1],[2],[3],[4],[5]] # independent var \n",
    "Y = [0,1,0,0,1] # dependent var \n",
    "model = LogisticRegression() # algo used !! \n",
    "model.fit(X,Y)\n",
    "hours = float(input(\"Enter the no of hours you have studied : \"))\n",
    "result = model.predict([[hours]])[0]\n",
    "prob = model.predict_proba([[hours]])[0][1]  \n",
    "if result ==1:\n",
    "    print(f\"Based on {hours} hours of study you are likely to PASS\")\n",
    "else:\n",
    "    print(f\"Based on no {hours} hours of study you are going to FAIL\")\n"
   ]
  },
  {
   "cell_type": "code",
   "execution_count": null,
   "id": "182b97b0",
   "metadata": {},
   "outputs": [],
   "source": []
  },
  {
   "cell_type": "code",
   "execution_count": null,
   "id": "b9bbcd63",
   "metadata": {},
   "outputs": [],
   "source": []
  }
 ],
 "metadata": {
  "kernelspec": {
   "display_name": ".venv",
   "language": "python",
   "name": "python3"
  },
  "language_info": {
   "codemirror_mode": {
    "name": "ipython",
    "version": 3
   },
   "file_extension": ".py",
   "mimetype": "text/x-python",
   "name": "python",
   "nbconvert_exporter": "python",
   "pygments_lexer": "ipython3",
   "version": "3.13.7"
  }
 },
 "nbformat": 4,
 "nbformat_minor": 5
}
