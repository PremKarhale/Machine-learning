{
 "cells": [
  {
   "cell_type": "code",
   "execution_count": 2,
   "id": "949a637b",
   "metadata": {},
   "outputs": [],
   "source": [
    "#KNN Algo working \n",
    "import pandas as pd \n",
    "from sklearn.neighbors import KNeighborsClassifier\n",
    "import numpy as np "
   ]
  },
  {
   "cell_type": "code",
   "execution_count": 3,
   "id": "ceea22e9",
   "metadata": {},
   "outputs": [
    {
     "name": "stdout",
     "output_type": "stream",
     "text": [
      "Based on your given inputs the predicted fruit is \"Apple\" \n"
     ]
    }
   ],
   "source": [
    "\"\"\"\n",
    "Q) Predict that the given fruit is apple or orange based on their weight (g) , size in (cm) \n",
    "\"\"\"\n",
    "# X contain the value of weight (g) or size in cm \n",
    "X = np.array([[180,7],[200,7.5],[250,8],[300,8.5],[330,9],[360,9.5]])\n",
    "#0=apple and 1 = orange \n",
    "Y= np.array([0,0,0,1,1,1])\n",
    "model = KNeighborsClassifier(n_neighbors=3) # check 3 neighbour\n",
    "model.fit(X,Y)\n",
    "weight = float(input(\"Enter the weight of your fruit : \"))\n",
    "size = float(input(\"Enter the size of your fruit : \"))\n",
    "result = model.predict([[weight , size ]])[0] # we add [0] at the end just to return the one single value \n",
    "\n",
    "if result == 1:\n",
    "    print(\"Based on your given inputs the predicted fruit is \\\"Orange\\\" \")\n",
    "else:    \n",
    "    print(\"Based on your given inputs the predicted fruit is \\\"Apple\\\" \")\n",
    "\n"
   ]
  },
  {
   "cell_type": "code",
   "execution_count": null,
   "id": "9654dd93",
   "metadata": {},
   "outputs": [],
   "source": []
  }
 ],
 "metadata": {
  "kernelspec": {
   "display_name": ".venv",
   "language": "python",
   "name": "python3"
  },
  "language_info": {
   "codemirror_mode": {
    "name": "ipython",
    "version": 3
   },
   "file_extension": ".py",
   "mimetype": "text/x-python",
   "name": "python",
   "nbconvert_exporter": "python",
   "pygments_lexer": "ipython3",
   "version": "3.13.7"
  }
 },
 "nbformat": 4,
 "nbformat_minor": 5
}
