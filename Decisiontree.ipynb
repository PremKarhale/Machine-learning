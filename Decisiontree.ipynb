{
 "cells": [
  {
   "cell_type": "code",
   "execution_count": 1,
   "id": "74d36552",
   "metadata": {},
   "outputs": [],
   "source": [
    "import pandas as pd\n",
    "import numpy as np\n",
    "from sklearn.tree import DecisionTreeClassifier\n"
   ]
  },
  {
   "cell_type": "code",
   "execution_count": null,
   "id": "a638ce4e",
   "metadata": {},
   "outputs": [
    {
     "name": "stdout",
     "output_type": "stream",
     "text": [
      "this likely to be an Apple\n"
     ]
    }
   ],
   "source": [
    "\"\"\"\n",
    "Q) Based on the size and the color of the fruit classify it as apple or orange ?\n",
    "\"\"\"\n",
    "X = np.array([[7,2],[8,3],[9,4],[4,5],[6,6]])  #[size , colorShade]\n",
    "Y =[0,0,1,0,1] # 0 = orange , 1 = apple\n",
    "model = DecisionTreeClassifier()\n",
    "size = float(input(\"Enter the size of fruit in cm : \"))\n",
    "shade =float(input(\"Enter the color shade (1-10):\"))\n",
    "model.fit(X,Y)\n",
    "result = model.predict([[size,shade]])[0]\n",
    "\n",
    "if result ==0:\n",
    "    print(f\"This is likely to be an Orange \")\n",
    "else:\n",
    "    print(\"this likely to be an Apple\")\n"
   ]
  },
  {
   "cell_type": "code",
   "execution_count": null,
   "id": "94f9ac4c",
   "metadata": {},
   "outputs": [],
   "source": []
  }
 ],
 "metadata": {
  "kernelspec": {
   "display_name": ".venv",
   "language": "python",
   "name": "python3"
  },
  "language_info": {
   "codemirror_mode": {
    "name": "ipython",
    "version": 3
   },
   "file_extension": ".py",
   "mimetype": "text/x-python",
   "name": "python",
   "nbconvert_exporter": "python",
   "pygments_lexer": "ipython3",
   "version": "3.13.7"
  }
 },
 "nbformat": 4,
 "nbformat_minor": 5
}
